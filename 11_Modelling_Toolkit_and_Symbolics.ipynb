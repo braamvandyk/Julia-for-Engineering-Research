{
  "cells": [
    {
      "cell_type": "raw",
      "metadata": {},
      "source": [
        "---\n",
        "title: \"Modeling Toolkit and Symbolics\"\n",
        "---"
      ],
      "id": "381f37dc"
    },
    {
      "cell_type": "markdown",
      "metadata": {},
      "source": [
        "Up to now, when we needed to solve a system of ODEs or non-linear equations, for example, we have programmed these and passed them to a solver. If you are comfortable with writing code, this is not a problem. There is however a few tools available in Julia that can make the task a lot easier, both for experienced and novice programmers - a modern Computer Algebra System, [Symbolics.jl](https://symbolics.juliasymbolics.org/stable/).\n",
        "\n",
        "## Symbolics.jl and the Symbolics Ecosystem\n",
        "Symbolics allows you to simply specify the equations for your system and then do symbolic manipulations and simplifications to the system. Since Symbolics is written in pure Julia, it interacts seamlessly with normal Julia code and you can do anything with a symbolic variable you would do with any other Julia variable. This gives great flexibility. It doesn't stop there however - it will also generate a Julia function for you - optimised and parallelised, if specified. \n",
        "\n",
        "In addition, there are several other packages that build on Symbolics:\n",
        "\n",
        "- **ModelingToolkit**: Provides the tools to symbolically specify common numerical systems like ODEs, PDEs, non-linear systems, control problems, causal and acausal modelling etc.\n",
        "- **Catalyst**: Provides tools for specifying reaction networks and kinetics\n",
        "- **DataDrivenDiffEq**: Automatic identifications of ODEs/DAEs from data\n",
        "- **SymbolicRegression**: Genetic programming to find equations from data\n",
        "- **ReversePropagation**: Source-to-source mode automatic differentiation\n",
        "\n",
        "## Using Symbolics\n",
        "This is a very brief introduction to Symbolics. For more detail, refer to the [manual](https://symbolics.juliasymbolics.org/stable/getting_started/).\n",
        "\n",
        "At the simples level, Symbolics works with symbolic variables and equations. You specify equations with the `@variables` macro and then simply build equations with these symbolic variables. You can simplify equations, using `simplify()`, define and calculate derivates and jacobians etc. If you are using Symbolics in a Jupyter notebook or in Pluto, the equations will be rendered as $LaTeX$. In the REPL or a script, there will be text output. You can also generate $LaTeX$ expressions with the [Latexify](https://korsbo.github.io/Latexify.jl/stable/) package.\n",
        "\n",
        "For the sake of pretty outputs, the following code was executed inside a Jupyter notebook (running inside VS Code):\n"
      ],
      "id": "51b59a87"
    },
    {
      "cell_type": "code",
      "metadata": {},
      "source": [
        "using Symbolics\n",
        "\n",
        "@variables x, y"
      ],
      "id": "8c7db075",
      "execution_count": null,
      "outputs": []
    },
    {
      "cell_type": "markdown",
      "metadata": {},
      "source": [
        "## Modeling Toolkit"
      ],
      "id": "20faca7f"
    }
  ],
  "metadata": {
    "kernelspec": {
      "name": "julia-1.8",
      "language": "julia",
      "display_name": "Julia 1.8.5"
    }
  },
  "nbformat": 4,
  "nbformat_minor": 5
}