{
  "cells": [
    {
      "cell_type": "raw",
      "metadata": {},
      "source": [
        "---\n",
        "title: \"Solving Non-linear Systems\"\n",
        "---"
      ],
      "id": "d8ae3723"
    },
    {
      "cell_type": "markdown",
      "metadata": {},
      "source": [
        "It is often required to solve systems of non-linear equations in engineering. As for the the case of systems of linear equations, there are multiple options in Julia. \n",
        "\n",
        "## Available packages\n",
        "A popular package is [`NLsolve.jl`](https://github.com/JuliaNLSolvers/NLsolve.jl). This package provides three methods: Trust region, Newton's method with optional line search, and Anderson acceleration. It can also solve fixed-point problems.\n",
        "\n",
        "Alternatively, you could use [`JuMP`](https://jump.dev/) - a **very** powerful mathematical programming modeling language, built on top of Julia, that can call several free and commercial solvers. In this case, set up a problem with non-linear constraints matching your system and a constant value objective function.\n",
        "\n",
        "There are also several less popular packages available.\n",
        "\n",
        "In the spirit of not wanting to learn several different interfaces to access options for different algorithms, we shall stick to the SciML package for non-linear systems, [`NonlinearSolve.jl`](https://docs.sciml.ai/NonlinearSolve/stable/).\n",
        "\n",
        "This package uses the same interface as [`LinearSolve.jl`](https://docs.sciml.ai/LinearSolve/stable/). It has built-in in algorithms, but is also a unified front-end for other packages, including `NLsolve.jl`.\n",
        "\n",
        "## NonlinearSolve\n",
        "\n",
        "The `NonlinearSolve.jl` package can be used to solve three types of problem:\n",
        "\n",
        "1. Interval root-finding (bracketing) problems, where a scalar root is found within a specified interval: find $t ∈ [tₗ, tₕ]$ such that $f(t) = 0$  \n",
        "2. Solving a system of non-linear equations, i.e. find $\\mathbf{u}$ such that $f(\\mathbf{u}) = \\mathbf{0}$\n",
        "3. Solving stead-state problems, i.e. solve $u' = f(u, t) = f(u, \\infty) = 0$\n",
        "\n",
        "To solve a problem, you need to provide a function that defines the system of equations. This can take one of two forms:\n",
        "\n",
        "- A non-mutating function, `f(t, p)`, which returns `u`\n",
        "- A mutating function, `f!(u, t, p)`, which mutates the parameter `u`\n",
        "\n",
        "You then define either an `IntervalNonlinearProblem`, `NonlinearProblem` or `SteadyStateProblem`, depending on which of the three types of problems above you want to solve.\n",
        "\n",
        "Finally, you call `solve()` to get the result.\n",
        "\n",
        "As a simple demonstration, we shall calculate the boiling point of water, using the Antoine correlation with parameters from NIST. We calculate the boiling point by finding the root of a function that is the difference between the vapour pressure at a specified temperature and 1 atm. We do this in two ways, using the Newton-Raphson method from a starting guess and using the regula falsi method to find roots in a specified interval.\n"
      ],
      "id": "21748213"
    },
    {
      "cell_type": "code",
      "metadata": {},
      "source": [
        "using NonlinearSolve\n",
        "\n",
        "\"\"\"\n",
        "    Calculate the difference between the vapour pressure and 1atm\n",
        "\"\"\"\n",
        "function f(u, p)\n",
        "    A, B, C = p\n",
        "    return 10^(A - B/(u + C)) - 1.01325\n",
        "end\n",
        "\n",
        "# Antoine parameters from NIST\n",
        "# Stull, 1947\n",
        "p = (4.6543, 1435.264, -64.848)\n",
        "\n",
        "# Initial guess for NewtonRaphson\n",
        "u0 = 373.15\n",
        "\n",
        "# Specified span for Falsi\n",
        "uspan = (370.0, 380.0);"
      ],
      "id": "6b778266",
      "execution_count": null,
      "outputs": []
    },
    {
      "cell_type": "code",
      "metadata": {},
      "source": [
        "prob = NonlinearProblem(f, u0, p)\n",
        "sol = solve(prob, NewtonRaphson())"
      ],
      "id": "7900571a",
      "execution_count": null,
      "outputs": []
    },
    {
      "cell_type": "code",
      "metadata": {},
      "source": [
        "f(sol.u, p)"
      ],
      "id": "dc6abec3",
      "execution_count": null,
      "outputs": []
    },
    {
      "cell_type": "code",
      "metadata": {},
      "source": [
        "prob2 = IntervalNonlinearProblem(f, uspan, p)\n",
        "sol2 = solve(prob2, Falsi())"
      ],
      "id": "695273a7",
      "execution_count": null,
      "outputs": []
    },
    {
      "cell_type": "code",
      "metadata": {},
      "source": [
        "f(sol2.u, p)"
      ],
      "id": "9aa26209",
      "execution_count": null,
      "outputs": []
    },
    {
      "cell_type": "markdown",
      "metadata": {},
      "source": [
        "We can also solve for the steady-state solution of a differential equation:\n",
        "\n",
        "$$u'(t) = u(t) - u^2(t)$$\n",
        "\n",
        "with $u(0) = 1.5$. This ODE will have a steady-state at $u = 0$.\n"
      ],
      "id": "a5770989"
    },
    {
      "cell_type": "code",
      "metadata": {},
      "source": [
        "using NonlinearSolve, DifferentialEquations\n",
        "\n",
        "function ssode(u, p, t)\n",
        "    return u - u^2\n",
        "end\n",
        "\n",
        "u0 = 1.5\n",
        "probss = SteadyStateProblem(ssode, u0, nothing)\n",
        "solss = solve(probss, DynamicSS(Vern6()))"
      ],
      "id": "559c010e",
      "execution_count": null,
      "outputs": []
    },
    {
      "cell_type": "markdown",
      "metadata": {},
      "source": [
        "While this is a simple demonstration of how to solve for an ODE's steady-state, it would have been a lot more efficient to convert the problem to a non-linear equation, rather than using the approach of solving the dynamic ODE problem and running to steady-state."
      ],
      "id": "31de1793"
    }
  ],
  "metadata": {
    "kernelspec": {
      "name": "julia-1.8",
      "language": "julia",
      "display_name": "Julia 1.8.5"
    }
  },
  "nbformat": 4,
  "nbformat_minor": 5
}